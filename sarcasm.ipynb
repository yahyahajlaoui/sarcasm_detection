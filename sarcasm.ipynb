{
  "cells": [
    {
      "cell_type": "markdown",
      "metadata": {
        "id": "bla8bOeyTvh2"
      },
      "source": [
        "# Simple NLP Model with sarcasm dataset"
      ]
    },
    {
      "cell_type": "markdown",
      "metadata": {
        "id": "uHm_utIKTvh6"
      },
      "source": [
        "## Step 0. Library Import"
      ]
    },
    {
      "cell_type": "code",
      "execution_count": 1,
      "metadata": {
        "id": "HDvkxDJKTvh6"
      },
      "outputs": [],
      "source": [
        "import json\n",
        "import urllib\n",
        "import numpy as np \n",
        "\n",
        "import tensorflow as tf \n",
        "from tensorflow.keras.preprocessing.text import Tokenizer\n",
        "from tensorflow.keras.preprocessing.sequence import pad_sequences\n",
        "from tensorflow.keras.layers import Embedding, LSTM, Dense, Bidirectional, Flatten\n",
        "from tensorflow.keras.models import Sequential\n",
        "from tensorflow.keras.callbacks import ModelCheckpoint\n",
        "\n"
      ]
    },
    {
      "cell_type": "markdown",
      "metadata": {
        "id": "x7xMxRyNTvh7"
      },
      "source": [
        "## Step 1. Load Dataset"
      ]
    },
    {
      "cell_type": "code",
      "execution_count": 2,
      "metadata": {
        "id": "yhCum_blTvh8"
      },
      "outputs": [],
      "source": [
        "url = 'https://storage.googleapis.com/download.tensorflow.org/data/sarcasm.json'\n",
        "url_save_path = 'sarcasm.json'\n"
      ]
    },
    {
      "cell_type": "code",
      "execution_count": 3,
      "metadata": {
        "id": "lMXfszA6Tvh8",
        "outputId": "3db08d58-4809-4a40-9d1a-bbc6a0401278",
        "colab": {
          "base_uri": "https://localhost:8080/"
        }
      },
      "outputs": [
        {
          "output_type": "execute_result",
          "data": {
            "text/plain": [
              "('sarcasm.json', <http.client.HTTPMessage at 0x7f07cb2a75d0>)"
            ]
          },
          "metadata": {},
          "execution_count": 3
        }
      ],
      "source": [
        "urllib.request.urlretrieve(url, url_save_path)"
      ]
    },
    {
      "cell_type": "code",
      "execution_count": 4,
      "metadata": {
        "id": "EzmspmwcTvh9"
      },
      "outputs": [],
      "source": [
        "with open(url_save_path) as f:\n",
        "    json_dataset = json.load(f)"
      ]
    },
    {
      "cell_type": "code",
      "execution_count": 5,
      "metadata": {
        "id": "y2A_kPPYTvh-",
        "outputId": "c905d402-9a25-4211-d03f-4a66a19659b6",
        "colab": {
          "base_uri": "https://localhost:8080/"
        }
      },
      "outputs": [
        {
          "output_type": "execute_result",
          "data": {
            "text/plain": [
              "[{'article_link': 'https://www.huffingtonpost.com/entry/versace-black-code_us_5861fbefe4b0de3a08f600d5',\n",
              "  'headline': \"former versace store clerk sues over secret 'black code' for minority shoppers\",\n",
              "  'is_sarcastic': 0},\n",
              " {'article_link': 'https://www.huffingtonpost.com/entry/roseanne-revival-review_us_5ab3a497e4b054d118e04365',\n",
              "  'headline': \"the 'roseanne' revival catches up to our thorny political mood, for better and worse\",\n",
              "  'is_sarcastic': 0},\n",
              " {'article_link': 'https://local.theonion.com/mom-starting-to-fear-son-s-web-series-closest-thing-she-1819576697',\n",
              "  'headline': \"mom starting to fear son's web series closest thing she will have to grandchild\",\n",
              "  'is_sarcastic': 1},\n",
              " {'article_link': 'https://politics.theonion.com/boehner-just-wants-wife-to-listen-not-come-up-with-alt-1819574302',\n",
              "  'headline': 'boehner just wants wife to listen, not come up with alternative debt-reduction ideas',\n",
              "  'is_sarcastic': 1},\n",
              " {'article_link': 'https://www.huffingtonpost.com/entry/jk-rowling-wishes-snape-happy-birthday_us_569117c4e4b0cad15e64fdcb',\n",
              "  'headline': 'j.k. rowling wishes snape happy birthday in the most magical way',\n",
              "  'is_sarcastic': 0}]"
            ]
          },
          "metadata": {},
          "execution_count": 5
        }
      ],
      "source": [
        "json_dataset[:5]"
      ]
    },
    {
      "cell_type": "markdown",
      "metadata": {
        "id": "zCchTA64Tvh-"
      },
      "source": [
        "## Step 2. Data Preprocessing"
      ]
    },
    {
      "cell_type": "markdown",
      "metadata": {
        "id": "Jww7Fpg9Tvh_"
      },
      "source": [
        "### 2-a. Train / Test split"
      ]
    },
    {
      "cell_type": "code",
      "execution_count": 6,
      "metadata": {
        "id": "FzSboNAsTvh_"
      },
      "outputs": [],
      "source": [
        "X = []\n",
        "y = []\n",
        "for data in json_dataset:\n",
        "    X.append(data['headline'])\n",
        "    y.append(data['is_sarcastic'])"
      ]
    },
    {
      "cell_type": "code",
      "execution_count": 7,
      "metadata": {
        "id": "LCVW0RLJTvh_",
        "outputId": "11052e24-aae4-4bba-d344-d9fdbe8c735a",
        "colab": {
          "base_uri": "https://localhost:8080/"
        }
      },
      "outputs": [
        {
          "output_type": "stream",
          "name": "stdout",
          "text": [
            "headline :  former versace store clerk sues over secret 'black code' for minority shoppers\n",
            "is sarcastic ? : No\n",
            "headline :  the 'roseanne' revival catches up to our thorny political mood, for better and worse\n",
            "is sarcastic ? : Yes\n",
            "headline :  mom starting to fear son's web series closest thing she will have to grandchild\n",
            "is sarcastic ? : Yes\n",
            "headline :  boehner just wants wife to listen, not come up with alternative debt-reduction ideas\n",
            "is sarcastic ? : Yes\n",
            "headline :  j.k. rowling wishes snape happy birthday in the most magical way\n",
            "is sarcastic ? : Yes\n"
          ]
        }
      ],
      "source": [
        "for i in range(5):\n",
        "    print('headline : ', X[i])\n",
        "    print('is sarcastic ? :', ['No' if i == 0 else 'Yes'][0])"
      ]
    },
    {
      "cell_type": "code",
      "execution_count": 8,
      "metadata": {
        "id": "U15vcOkZTviA"
      },
      "outputs": [],
      "source": [
        "train_size = 20000\n",
        "\n",
        "X_train = X[:train_size]\n",
        "y_train = y[:train_size]\n",
        "\n",
        "X_valid = X[train_size:]\n",
        "y_valid = y[train_size:]"
      ]
    },
    {
      "cell_type": "markdown",
      "metadata": {
        "id": "wUR_hpP5TviA"
      },
      "source": [
        "### 2-b. Tokenizer"
      ]
    },
    {
      "cell_type": "code",
      "execution_count": 9,
      "metadata": {
        "id": "7nlywGa7TviA"
      },
      "outputs": [],
      "source": [
        "vocab_size = 1000\n",
        "oov_tok = \"<OOV>\""
      ]
    },
    {
      "cell_type": "code",
      "execution_count": 10,
      "metadata": {
        "id": "ZsiAGZ4fTviB"
      },
      "outputs": [],
      "source": [
        "tokenizer = Tokenizer(num_words=vocab_size, oov_token=oov_tok)"
      ]
    },
    {
      "cell_type": "code",
      "execution_count": 11,
      "metadata": {
        "id": "owf13zwnTviB"
      },
      "outputs": [],
      "source": [
        "tokenizer.fit_on_texts(X_train)"
      ]
    },
    {
      "cell_type": "code",
      "execution_count": 12,
      "metadata": {
        "id": "ihEVNByhTviB"
      },
      "outputs": [],
      "source": [
        "X_train = tokenizer.texts_to_sequences(X_train)\n",
        "X_valid = tokenizer.texts_to_sequences(X_valid)"
      ]
    },
    {
      "cell_type": "code",
      "execution_count": 13,
      "metadata": {
        "id": "bqdgZZNzTviB",
        "outputId": "00fa6723-faf4-466b-d28b-52bea75555d5",
        "colab": {
          "base_uri": "https://localhost:8080/"
        }
      },
      "outputs": [
        {
          "output_type": "execute_result",
          "data": {
            "text/plain": [
              "[[328, 1, 799, 1, 1, 47, 389, 1, 1, 6, 1, 1],\n",
              " [4, 1, 1, 1, 23, 2, 161, 1, 390, 1, 6, 251, 9, 889],\n",
              " [153, 890, 2, 891, 1, 1, 595, 1, 221, 133, 36, 45, 2, 1],\n",
              " [1, 38, 213, 382, 2, 1, 29, 288, 23, 10, 1, 1, 1, 958],\n",
              " [715, 672, 1, 1, 1, 662, 553, 5, 4, 92, 1, 90]]"
            ]
          },
          "metadata": {},
          "execution_count": 13
        }
      ],
      "source": [
        "X_train[:5]"
      ]
    },
    {
      "cell_type": "code",
      "execution_count": 14,
      "metadata": {
        "id": "l4qDTyP2TviC",
        "outputId": "fd967793-61e7-47e3-a8b2-da3117386142",
        "colab": {
          "base_uri": "https://localhost:8080/"
        }
      },
      "outputs": [
        {
          "output_type": "execute_result",
          "data": {
            "text/plain": [
              "[[1, 1, 1, 1, 30, 1, 1, 5, 519, 109],\n",
              " [202, 1, 8, 31, 1, 1, 2, 854, 773],\n",
              " [18, 380, 191, 2, 915, 76, 8, 4, 1],\n",
              " [1, 1, 299, 337, 3, 1, 1],\n",
              " [162, 1, 1, 6, 1, 1, 348, 1]]"
            ]
          },
          "metadata": {},
          "execution_count": 14
        }
      ],
      "source": [
        "X_valid[:5]"
      ]
    },
    {
      "cell_type": "markdown",
      "metadata": {
        "id": "6S2ZBpZ-TviC"
      },
      "source": [
        "### 2-c. Pad Sequences"
      ]
    },
    {
      "cell_type": "code",
      "execution_count": 15,
      "metadata": {
        "id": "JOzjafUZTviC"
      },
      "outputs": [],
      "source": [
        "max_length = 120\n",
        "trunc_type = 'post'\n",
        "pad_type = 'post'"
      ]
    },
    {
      "cell_type": "code",
      "execution_count": 16,
      "metadata": {
        "id": "VEO8YRv0TviD"
      },
      "outputs": [],
      "source": [
        "X_train_padded = pad_sequences(X_train, maxlen=max_length, truncating=trunc_type, padding=pad_type)\n",
        "X_valid_padded = pad_sequences(X_valid, maxlen=max_length, truncating=trunc_type, padding=pad_type)"
      ]
    },
    {
      "cell_type": "code",
      "execution_count": 17,
      "metadata": {
        "id": "I1mgAEGtTviD",
        "outputId": "839154b8-ca5c-4c9d-f802-83f191fde9cb",
        "colab": {
          "base_uri": "https://localhost:8080/"
        }
      },
      "outputs": [
        {
          "output_type": "execute_result",
          "data": {
            "text/plain": [
              "array([[328,   1, 799,   1,   1,  47, 389,   1,   1,   6,   1,   1,   0,\n",
              "          0,   0,   0,   0,   0,   0,   0,   0,   0,   0,   0,   0,   0,\n",
              "          0,   0,   0,   0,   0,   0,   0,   0,   0,   0,   0,   0,   0,\n",
              "          0,   0,   0,   0,   0,   0,   0,   0,   0,   0,   0,   0,   0,\n",
              "          0,   0,   0,   0,   0,   0,   0,   0,   0,   0,   0,   0,   0,\n",
              "          0,   0,   0,   0,   0,   0,   0,   0,   0,   0,   0,   0,   0,\n",
              "          0,   0,   0,   0,   0,   0,   0,   0,   0,   0,   0,   0,   0,\n",
              "          0,   0,   0,   0,   0,   0,   0,   0,   0,   0,   0,   0,   0,\n",
              "          0,   0,   0,   0,   0,   0,   0,   0,   0,   0,   0,   0,   0,\n",
              "          0,   0,   0]], dtype=int32)"
            ]
          },
          "metadata": {},
          "execution_count": 17
        }
      ],
      "source": [
        "X_train_padded[:1]"
      ]
    },
    {
      "cell_type": "code",
      "execution_count": 18,
      "metadata": {
        "id": "NlS4nByVTviD",
        "outputId": "82f52ea4-24af-47c4-b262-13f2150e6ec8",
        "colab": {
          "base_uri": "https://localhost:8080/"
        }
      },
      "outputs": [
        {
          "output_type": "execute_result",
          "data": {
            "text/plain": [
              "array([[  1,   1,   1,   1,  30,   1,   1,   5, 519, 109,   0,   0,   0,\n",
              "          0,   0,   0,   0,   0,   0,   0,   0,   0,   0,   0,   0,   0,\n",
              "          0,   0,   0,   0,   0,   0,   0,   0,   0,   0,   0,   0,   0,\n",
              "          0,   0,   0,   0,   0,   0,   0,   0,   0,   0,   0,   0,   0,\n",
              "          0,   0,   0,   0,   0,   0,   0,   0,   0,   0,   0,   0,   0,\n",
              "          0,   0,   0,   0,   0,   0,   0,   0,   0,   0,   0,   0,   0,\n",
              "          0,   0,   0,   0,   0,   0,   0,   0,   0,   0,   0,   0,   0,\n",
              "          0,   0,   0,   0,   0,   0,   0,   0,   0,   0,   0,   0,   0,\n",
              "          0,   0,   0,   0,   0,   0,   0,   0,   0,   0,   0,   0,   0,\n",
              "          0,   0,   0]], dtype=int32)"
            ]
          },
          "metadata": {},
          "execution_count": 18
        }
      ],
      "source": [
        "X_valid_padded[:1]"
      ]
    },
    {
      "cell_type": "code",
      "execution_count": 19,
      "metadata": {
        "id": "0w6tan83TviE",
        "outputId": "86c3879b-1bb4-4d96-d2ca-7ba76905b160",
        "colab": {
          "base_uri": "https://localhost:8080/"
        }
      },
      "outputs": [
        {
          "output_type": "stream",
          "name": "stdout",
          "text": [
            "(20000, 120) (6709, 120)\n"
          ]
        }
      ],
      "source": [
        "print(X_train_padded.shape, X_valid_padded.shape)"
      ]
    },
    {
      "cell_type": "markdown",
      "metadata": {
        "id": "fmL_r4x4TviE"
      },
      "source": [
        "### 2-d. label type : list -> numpy array"
      ]
    },
    {
      "cell_type": "code",
      "execution_count": 20,
      "metadata": {
        "id": "IISxOfT4TviE",
        "outputId": "7fb85ef0-6fae-4da3-b1f0-2fe74ae21002",
        "colab": {
          "base_uri": "https://localhost:8080/"
        }
      },
      "outputs": [
        {
          "output_type": "stream",
          "name": "stdout",
          "text": [
            "X Datatype : \n",
            "<class 'list'> <class 'list'>\n",
            "X_padded Datatype : \n",
            "<class 'numpy.ndarray'> <class 'numpy.ndarray'>\n",
            "-------------------------\n",
            "y Datatype : \n",
            "<class 'list'> <class 'list'>\n"
          ]
        }
      ],
      "source": [
        "print('X Datatype : ')\n",
        "print(type(X_train), type(X_valid))\n",
        "print('X_padded Datatype : ')\n",
        "print(type(X_train_padded), type(X_valid_padded))\n",
        "print('-------------------------')\n",
        "print('y Datatype : ')\n",
        "print(type(y_train), type(y_valid))"
      ]
    },
    {
      "cell_type": "code",
      "execution_count": 21,
      "metadata": {
        "id": "MOfriYcyTviF"
      },
      "outputs": [],
      "source": [
        "y_train = np.array(y_train)\n",
        "y_valid = np.array(y_valid)"
      ]
    },
    {
      "cell_type": "code",
      "execution_count": 22,
      "metadata": {
        "id": "uUm73DmzTviF",
        "outputId": "85ab67f9-dc31-4b0f-84d6-75bedf5a5f1b",
        "colab": {
          "base_uri": "https://localhost:8080/"
        }
      },
      "outputs": [
        {
          "output_type": "stream",
          "name": "stdout",
          "text": [
            "final X Datatype : \n",
            "<class 'numpy.ndarray'> <class 'numpy.ndarray'>\n",
            "-------------------------\n",
            "final y Datatype : \n",
            "<class 'numpy.ndarray'> <class 'numpy.ndarray'>\n"
          ]
        }
      ],
      "source": [
        "print('final X Datatype : ')\n",
        "print(type(X_train_padded), type(X_valid_padded))\n",
        "print('-------------------------')\n",
        "print('final y Datatype : ')\n",
        "print(type(y_train), type(y_valid))"
      ]
    },
    {
      "cell_type": "markdown",
      "metadata": {
        "id": "AEywAd8HTviF"
      },
      "source": [
        "## Step 3. Modeling"
      ]
    },
    {
      "cell_type": "code",
      "execution_count": 24,
      "metadata": {
        "id": "W3tu9gaKTviF"
      },
      "outputs": [],
      "source": [
        "embedding_dim = 16\n",
        "vocab_size = 1000\n",
        "max_length = 120"
      ]
    },
    {
      "cell_type": "code",
      "execution_count": 25,
      "metadata": {
        "id": "ytDa_rBxTviF"
      },
      "outputs": [],
      "source": [
        "model = Sequential([\n",
        "    Embedding(vocab_size, embedding_dim, input_length=max_length),\n",
        "    Bidirectional(LSTM(64, return_sequences=True)),\n",
        "    Bidirectional(LSTM(64, return_sequences=True)),\n",
        "    Bidirectional(LSTM(64, dropout=0.5)),\n",
        "    Dense(32, activation='relu'),\n",
        "    Dense(16, activation='relu'),\n",
        "    Dense(1, activation='sigmoid')\n",
        "])\n"
      ]
    },
    {
      "cell_type": "code",
      "execution_count": 26,
      "metadata": {
        "id": "8zGvlrrhTviF",
        "outputId": "0ec119a9-10ad-4117-f410-b5b61dfab0e0",
        "colab": {
          "base_uri": "https://localhost:8080/"
        }
      },
      "outputs": [
        {
          "output_type": "stream",
          "name": "stdout",
          "text": [
            "Model: \"sequential\"\n",
            "_________________________________________________________________\n",
            " Layer (type)                Output Shape              Param #   \n",
            "=================================================================\n",
            " embedding (Embedding)       (None, 120, 16)           16000     \n",
            "                                                                 \n",
            " bidirectional (Bidirectiona  (None, 120, 128)         41472     \n",
            " l)                                                              \n",
            "                                                                 \n",
            " bidirectional_1 (Bidirectio  (None, 120, 128)         98816     \n",
            " nal)                                                            \n",
            "                                                                 \n",
            " bidirectional_2 (Bidirectio  (None, 128)              98816     \n",
            " nal)                                                            \n",
            "                                                                 \n",
            " dense (Dense)               (None, 32)                4128      \n",
            "                                                                 \n",
            " dense_1 (Dense)             (None, 16)                528       \n",
            "                                                                 \n",
            " dense_2 (Dense)             (None, 1)                 17        \n",
            "                                                                 \n",
            "=================================================================\n",
            "Total params: 259,777\n",
            "Trainable params: 259,777\n",
            "Non-trainable params: 0\n",
            "_________________________________________________________________\n"
          ]
        }
      ],
      "source": [
        "model.summary()"
      ]
    },
    {
      "cell_type": "markdown",
      "metadata": {
        "id": "G_-z8SlaTviG"
      },
      "source": [
        "## Step 4. Model Compile"
      ]
    },
    {
      "cell_type": "code",
      "execution_count": 27,
      "metadata": {
        "id": "rMGtezDsTviG"
      },
      "outputs": [],
      "source": [
        "model.compile(optimizer='adam', loss='binary_crossentropy', metrics=['acc'])"
      ]
    },
    {
      "cell_type": "markdown",
      "metadata": {
        "id": "uPzwr30YTviG"
      },
      "source": [
        "## Step 5. Model Checkpoint"
      ]
    },
    {
      "cell_type": "code",
      "execution_count": 28,
      "metadata": {
        "id": "jcoEQWoiTviG"
      },
      "outputs": [],
      "source": [
        "filepath = 'my_checkpoint.ckpt'\n",
        "cp = ModelCheckpoint(\n",
        "    filepath=filepath,\n",
        "    save_weights_only=True,\n",
        "    save_best_only=True,\n",
        "    monitor='val_loss',\n",
        "    verbose=1\n",
        ")"
      ]
    },
    {
      "cell_type": "markdown",
      "metadata": {
        "id": "V_SpkBmWTviG"
      },
      "source": [
        "## Step 6. Model Fit"
      ]
    },
    {
      "cell_type": "code",
      "execution_count": 29,
      "metadata": {
        "id": "D7acxkE1TviG"
      },
      "outputs": [],
      "source": [
        "epochs=17"
      ]
    },
    {
      "cell_type": "code",
      "execution_count": 30,
      "metadata": {
        "id": "WJn86icSTviH",
        "outputId": "4c7b9fb6-7a01-4f5b-f89a-7f370c446285",
        "colab": {
          "base_uri": "https://localhost:8080/"
        }
      },
      "outputs": [
        {
          "output_type": "stream",
          "name": "stdout",
          "text": [
            "Epoch 1/17\n",
            "625/625 [==============================] - ETA: 0s - loss: 0.4538 - acc: 0.7733\n",
            "Epoch 1: val_loss improved from inf to 0.40550, saving model to my_checkpoint.ckpt\n",
            "625/625 [==============================] - 255s 393ms/step - loss: 0.4538 - acc: 0.7733 - val_loss: 0.4055 - val_acc: 0.8129\n",
            "Epoch 2/17\n",
            "625/625 [==============================] - ETA: 0s - loss: 0.3582 - acc: 0.8368\n",
            "Epoch 2: val_loss improved from 0.40550 to 0.38672, saving model to my_checkpoint.ckpt\n",
            "625/625 [==============================] - 235s 375ms/step - loss: 0.3582 - acc: 0.8368 - val_loss: 0.3867 - val_acc: 0.8195\n",
            "Epoch 3/17\n",
            "625/625 [==============================] - ETA: 0s - loss: 0.3273 - acc: 0.8542\n",
            "Epoch 3: val_loss improved from 0.38672 to 0.37126, saving model to my_checkpoint.ckpt\n",
            "625/625 [==============================] - 228s 365ms/step - loss: 0.3273 - acc: 0.8542 - val_loss: 0.3713 - val_acc: 0.8246\n",
            "Epoch 4/17\n",
            "625/625 [==============================] - ETA: 0s - loss: 0.3113 - acc: 0.8634\n",
            "Epoch 4: val_loss did not improve from 0.37126\n",
            "625/625 [==============================] - 237s 379ms/step - loss: 0.3113 - acc: 0.8634 - val_loss: 0.3773 - val_acc: 0.8271\n",
            "Epoch 5/17\n",
            "625/625 [==============================] - ETA: 0s - loss: 0.2998 - acc: 0.8676\n",
            "Epoch 5: val_loss did not improve from 0.37126\n",
            "625/625 [==============================] - 233s 373ms/step - loss: 0.2998 - acc: 0.8676 - val_loss: 0.3744 - val_acc: 0.8311\n",
            "Epoch 6/17\n",
            "625/625 [==============================] - ETA: 0s - loss: 0.2930 - acc: 0.8722\n",
            "Epoch 6: val_loss did not improve from 0.37126\n",
            "625/625 [==============================] - 227s 363ms/step - loss: 0.2930 - acc: 0.8722 - val_loss: 0.3873 - val_acc: 0.8305\n",
            "Epoch 7/17\n",
            "625/625 [==============================] - ETA: 0s - loss: 0.2794 - acc: 0.8796\n",
            "Epoch 7: val_loss did not improve from 0.37126\n",
            "625/625 [==============================] - 235s 376ms/step - loss: 0.2794 - acc: 0.8796 - val_loss: 0.3757 - val_acc: 0.8272\n",
            "Epoch 8/17\n",
            "625/625 [==============================] - ETA: 0s - loss: 0.2717 - acc: 0.8840\n",
            "Epoch 8: val_loss did not improve from 0.37126\n",
            "625/625 [==============================] - 230s 368ms/step - loss: 0.2717 - acc: 0.8840 - val_loss: 0.3852 - val_acc: 0.8278\n",
            "Epoch 9/17\n",
            "625/625 [==============================] - ETA: 0s - loss: 0.2599 - acc: 0.8873\n",
            "Epoch 9: val_loss did not improve from 0.37126\n",
            "625/625 [==============================] - 237s 379ms/step - loss: 0.2599 - acc: 0.8873 - val_loss: 0.3949 - val_acc: 0.8296\n",
            "Epoch 10/17\n",
            "625/625 [==============================] - ETA: 0s - loss: 0.2542 - acc: 0.8924\n",
            "Epoch 10: val_loss did not improve from 0.37126\n",
            "625/625 [==============================] - 237s 379ms/step - loss: 0.2542 - acc: 0.8924 - val_loss: 0.4202 - val_acc: 0.8192\n",
            "Epoch 11/17\n",
            "625/625 [==============================] - ETA: 0s - loss: 0.2484 - acc: 0.8941\n",
            "Epoch 11: val_loss did not improve from 0.37126\n",
            "625/625 [==============================] - 232s 371ms/step - loss: 0.2484 - acc: 0.8941 - val_loss: 0.4052 - val_acc: 0.8228\n",
            "Epoch 12/17\n",
            "625/625 [==============================] - ETA: 0s - loss: 0.2415 - acc: 0.8978\n",
            "Epoch 12: val_loss did not improve from 0.37126\n",
            "625/625 [==============================] - 232s 371ms/step - loss: 0.2415 - acc: 0.8978 - val_loss: 0.4110 - val_acc: 0.8219\n",
            "Epoch 13/17\n",
            "625/625 [==============================] - ETA: 0s - loss: 0.2365 - acc: 0.8993\n",
            "Epoch 13: val_loss did not improve from 0.37126\n",
            "625/625 [==============================] - 237s 379ms/step - loss: 0.2365 - acc: 0.8993 - val_loss: 0.4619 - val_acc: 0.8211\n",
            "Epoch 14/17\n",
            "625/625 [==============================] - ETA: 0s - loss: 0.2298 - acc: 0.9036\n",
            "Epoch 14: val_loss did not improve from 0.37126\n",
            "625/625 [==============================] - 237s 380ms/step - loss: 0.2298 - acc: 0.9036 - val_loss: 0.4655 - val_acc: 0.8192\n",
            "Epoch 15/17\n",
            "625/625 [==============================] - ETA: 0s - loss: 0.2229 - acc: 0.9061\n",
            "Epoch 15: val_loss did not improve from 0.37126\n",
            "625/625 [==============================] - 233s 373ms/step - loss: 0.2229 - acc: 0.9061 - val_loss: 0.4820 - val_acc: 0.8152\n",
            "Epoch 16/17\n",
            "625/625 [==============================] - ETA: 0s - loss: 0.2175 - acc: 0.9075\n",
            "Epoch 16: val_loss did not improve from 0.37126\n",
            "625/625 [==============================] - 240s 384ms/step - loss: 0.2175 - acc: 0.9075 - val_loss: 0.4800 - val_acc: 0.8162\n",
            "Epoch 17/17\n",
            "625/625 [==============================] - ETA: 0s - loss: 0.2097 - acc: 0.9121\n",
            "Epoch 17: val_loss did not improve from 0.37126\n",
            "625/625 [==============================] - 231s 369ms/step - loss: 0.2097 - acc: 0.9121 - val_loss: 0.4784 - val_acc: 0.8182\n"
          ]
        },
        {
          "output_type": "execute_result",
          "data": {
            "text/plain": [
              "<keras.callbacks.History at 0x7f07c5158890>"
            ]
          },
          "metadata": {},
          "execution_count": 30
        }
      ],
      "source": [
        "model.fit(\n",
        "    X_train_padded, y_train,\n",
        "    validation_data = (X_valid_padded, y_valid),\n",
        "    callbacks=[cp],\n",
        "    epochs=epochs\n",
        ")"
      ]
    },
    {
      "cell_type": "markdown",
      "metadata": {
        "id": "3IpLU9WPTviH"
      },
      "source": [
        "##"
      ]
    },
    {
      "cell_type": "markdown",
      "metadata": {
        "id": "8U485P3STviH"
      },
      "source": [
        "## Step 7. Model Evaludate & Save"
      ]
    },
    {
      "cell_type": "code",
      "execution_count": null,
      "metadata": {
        "id": "Fkqc_7hsTviH",
        "outputId": "065ca7df-83bc-43bc-a406-5188c91c215e"
      },
      "outputs": [
        {
          "data": {
            "text/plain": [
              "<tensorflow.python.training.tracking.util.CheckpointLoadStatus at 0x7fbdb2b4e1d0>"
            ]
          },
          "execution_count": 81,
          "metadata": {},
          "output_type": "execute_result"
        }
      ],
      "source": [
        "model.load_weights(filepath)"
      ]
    },
    {
      "cell_type": "code",
      "execution_count": null,
      "metadata": {
        "id": "caomz6QhTviH",
        "outputId": "86c37270-c13a-4150-bcfa-51da93bc254e"
      },
      "outputs": [
        {
          "name": "stdout",
          "output_type": "stream",
          "text": [
            "210/210 [==============================] - 7s 32ms/step - loss: 0.3687 - acc: 0.8323\n"
          ]
        },
        {
          "data": {
            "text/plain": [
              "[0.36871227622032166, 0.8323147892951965]"
            ]
          },
          "execution_count": 86,
          "metadata": {},
          "output_type": "execute_result"
        }
      ],
      "source": [
        "model.evaluate(X_valid_padded, y_valid)"
      ]
    },
    {
      "cell_type": "code",
      "execution_count": 31,
      "metadata": {
        "id": "sI2FGIhxTviH"
      },
      "outputs": [],
      "source": [
        "model.save('sarcasm_3687.h5')"
      ]
    }
  ],
  "metadata": {
    "kernelspec": {
      "display_name": "Python 3.7.7 64-bit ('dataScience': conda)",
      "name": "python377jvsc74a57bd088212c6b79be9b544bafe6735d74fe8c206b1cc2a4f62e98b323686df1ed5be2"
    },
    "language_info": {
      "name": "python",
      "version": ""
    },
    "orig_nbformat": 2,
    "colab": {
      "name": "sarcasm.ipynb",
      "provenance": []
    }
  },
  "nbformat": 4,
  "nbformat_minor": 0
}